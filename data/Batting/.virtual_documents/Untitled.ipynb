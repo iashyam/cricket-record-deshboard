import pandas as pd


data = pd.read_csv("test.csv", index_col="Unnamed: 0", na_values='-')


data.head()


df = data.drop('Unnamed: 11', axis=1)


df.info()


df = df[df['Inns'].notna()]


df[df['Inns'].isna()]


df.head()


df["HS"]=df['HS'].str.split("*").str[0]


df.sort_values("Runs", ascending=False).head()



